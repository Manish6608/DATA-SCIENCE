{
 "cells": [
  {
   "cell_type": "markdown",
   "id": "e2d7cc33-9215-4e97-8219-08da8f75d53c",
   "metadata": {},
   "source": [
    "## Data Science Tools And Ecosystem"
   ]
  },
  {
   "cell_type": "markdown",
   "id": "68df4851-71a9-4006-9933-3349952c6885",
   "metadata": {},
   "source": [
    "### In this notebook, Data Science Tools and ecosystem are summarized."
   ]
  },
  {
   "cell_type": "code",
   "execution_count": null,
   "id": "f08acebf-3270-4c6a-8ca1-60db18541cc3",
   "metadata": {},
   "outputs": [],
   "source": [
    "Some of the popular Data Science languages used are:\n",
    "    1.Python\n",
    "    2.R\n",
    "    3.SQL\n",
    "    4.C++\n",
    "    5.Java etc..;"
   ]
  },
  {
   "cell_type": "markdown",
   "id": "5ede7af9-d271-4851-be0e-feae8cade5ac",
   "metadata": {},
   "source": [
    "Some of the common libraries used by Data Scientists Include\n",
    "1. TensorFlow\n",
    "2. NumPy\n",
    "3. SciPy\n",
    "4. Pandas\n",
    "5. Matplotlib\n",
    "6. Keras\n",
    "7. PyTorch etc.;"
   ]
  },
  {
   "cell_type": "markdown",
   "id": "7e179b90-d73d-4171-9c46-5ceb97ab6fd0",
   "metadata": {},
   "source": [
    "|Data Science Tools|\n",
    "|---|\n",
    "|SAS|\n",
    "|Apache Hadoop|\n",
    "|Tensor Flow|"
   ]
  },
  {
   "cell_type": "markdown",
   "id": "3cde1f1b-fa21-475e-9152-5e92f43d3aba",
   "metadata": {},
   "source": [
    "## Below are a five examples of evaluating arithmetic expressions in Python"
   ]
  },
  {
   "cell_type": "code",
   "execution_count": 1,
   "id": "eaf44083-23ab-4013-a132-3ad504e6cd56",
   "metadata": {
    "tags": []
   },
   "outputs": [
    {
     "data": {
      "text/plain": [
       "17"
      ]
     },
     "execution_count": 1,
     "metadata": {},
     "output_type": "execute_result"
    }
   ],
   "source": [
    "#this is a common arithmetic example to multiply and then add integers\n",
    "(3*4)+5\n"
   ]
  },
  {
   "cell_type": "code",
   "execution_count": 2,
   "id": "5c0bd17b-8611-4223-998e-215d4a2184b9",
   "metadata": {
    "tags": []
   },
   "outputs": [
    {
     "data": {
      "text/plain": [
       "3.3333333333333335"
      ]
     },
     "execution_count": 2,
     "metadata": {},
     "output_type": "execute_result"
    }
   ],
   "source": [
    "#this will convert 200 minuters to hours by dividing by 60\n",
    "200/60"
   ]
  },
  {
   "cell_type": "markdown",
   "id": "1dde63e1-1061-4049-920b-eacc5b7e3888",
   "metadata": {
    "tags": []
   },
   "source": [
    "### Objective\n",
    "* List popular languages for Data Science\n",
    "* List popular libraries for Data Science\n",
    "* List of well known Data Science Tools\n",
    "* How to provide comments in the cel"
   ]
  },
  {
   "cell_type": "markdown",
   "id": "c20dedb4-0abe-4545-a152-3db2922bf986",
   "metadata": {
    "tags": []
   },
   "source": [
    "## Author\n",
    "Manish Kumar"
   ]
  }
 ],
 "metadata": {
  "kernelspec": {
   "display_name": "Python 3 (ipykernel)",
   "language": "python",
   "name": "python3"
  },
  "language_info": {
   "codemirror_mode": {
    "name": "ipython",
    "version": 3
   },
   "file_extension": ".py",
   "mimetype": "text/x-python",
   "name": "python",
   "nbconvert_exporter": "python",
   "pygments_lexer": "ipython3",
   "version": "3.11.5"
  }
 },
 "nbformat": 4,
 "nbformat_minor": 5
}
